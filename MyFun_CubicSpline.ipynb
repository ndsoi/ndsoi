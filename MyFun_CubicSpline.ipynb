{
  "nbformat": 4,
  "nbformat_minor": 0,
  "metadata": {
    "colab": {
      "provenance": [],
      "authorship_tag": "ABX9TyOhVjRZSOIiS4oxCT+/bK1t",
      "include_colab_link": true
    },
    "kernelspec": {
      "name": "python3",
      "display_name": "Python 3"
    },
    "language_info": {
      "name": "python"
    }
  },
  "cells": [
    {
      "cell_type": "markdown",
      "metadata": {
        "id": "view-in-github",
        "colab_type": "text"
      },
      "source": [
        "<a href=\"https://colab.research.google.com/github/ndsoi/ndsoi/blob/main/MyFun_CubicSpline.ipynb\" target=\"_parent\"><img src=\"https://colab.research.google.com/assets/colab-badge.svg\" alt=\"Open In Colab\"/></a>"
      ]
    },
    {
      "cell_type": "markdown",
      "source": [
        "$$h_i = x_{i+1}-x_i$$\n",
        "$$\\alpha_i = \\frac{h_{i-1}}{h_{i-1}+h_i}$$\n",
        "$$\\beta_i = 3[\\frac{1-\\alpha_i}{h_{i-1}}(y_i-y_{i-1})+\\frac{\\alpha_i}{h_i}(y_{i+1}-y_i)]$$"
      ],
      "metadata": {
        "id": "nfc-KSnUSrSi"
      }
    },
    {
      "cell_type": "code",
      "execution_count": null,
      "metadata": {
        "id": "kPfNqoX6Slsc"
      },
      "outputs": [],
      "source": [
        "def calhi(X):\n",
        "  H = []\n",
        "  # len(X) = n+1\n",
        "  for i in range(len(X)-1):\n",
        "    H.append(X[i+1]-X[i])\n",
        "  return H\n",
        "\n",
        "def calalphai(H):\n",
        "  # len(H) n  0——n-1\n",
        "  # 只当 A0 = 0\n",
        "  A = [0]\n",
        "  for i in range(1,len(H)):\n",
        "    A.append((H[i-1]/(H[i-1]+H[i])))\n",
        "  return A\n",
        "\n",
        "def calbetai(A,H,Y):\n",
        "  # len(A) = n 实际有效的alpha在[1:]范围内\n",
        "  # Y n+1  0——n\n",
        "  B = [0]\n",
        "  for i in range(1,len(A)):\n",
        "    tmp1 = (1-A[i])/H[i-1]*(Y[i]-Y[i-1])\n",
        "    tmp2 = A[i]/H[i]*(Y[i+1]-Y[i])\n",
        "    B.append(3*(tmp1+tmp2))\n",
        "  return B\n",
        "\n"
      ]
    },
    {
      "cell_type": "markdown",
      "source": [
        "补充的数学表达式\n",
        "$$\n",
        "2m_0+m_1 = \\frac{3}{h_0}(y_1-y_0)\n",
        "$$\n",
        "\n",
        "$$\n",
        "m_{n-1}+2m_n = 3\\frac{y_n-y_{n-1}}{h_{n-1}}\n",
        "$$"
      ],
      "metadata": {
        "id": "zFKhuQ7RaWQR"
      }
    },
    {
      "cell_type": "code",
      "source": [
        "# 构造相应的矩阵\n",
        "# 先构造补充条件的list\n",
        "import numpy as np\n",
        "\n",
        "def RowForSupplement(n):\n",
        "  RowsFS = np.zeros(shape=(2,n+1))\n",
        "  RowsFS[0][0] = 2\n",
        "  RowsFS[0][1] = 1\n",
        "  RowsFS[1][n-1] = 1\n",
        "  RowsFS[1][n] = 2\n",
        "  return RowsFS\n",
        "\n",
        "# 构造原先的n-1个条件的方程\n",
        "def Row(A):\n",
        "  n = len(A)\n",
        "  Rows = np.zeros(shape=(n-1,n+1))\n",
        "  for i in range(1,n):\n",
        "    Rows[i-1][i-1] = 1-A[i]\n",
        "    Rows[i-1][i] = 2\n",
        "    Rows[i-1][i+1] = A[i]\n",
        "  return Rows\n",
        "\n",
        "# 合并左侧矩阵\n",
        "def Concat(Rows,RowsFS,n):\n",
        "  C = np.zeros(shape=(n+1,n+1))\n",
        "  C[:n-1,:] = Rows\n",
        "  C[n-1:,:] = RowsFS\n",
        "  return C\n",
        "\n",
        "# 构造β矩阵\n",
        "def Beta(B,Y,H):\n",
        "  n = len(Y)-1\n",
        "  l1 = 3*(Y[1]-Y[0])/H[0]\n",
        "  l2 = 3*(Y[n]-Y[n-1])/H[n-1]\n",
        "  Beta = np.zeros(shape=(n+1,))\n",
        "  for i in range(1,n):\n",
        "    Beta[i-1] = B[i]\n",
        "  Beta[n-1] = l1\n",
        "  Beta[n] = l2\n",
        "  return Beta\n",
        "\n",
        "# 解线性方程\n",
        "def solve(X,Y):\n",
        "  H = calhi(X)\n",
        "  A = calalphai(H)\n",
        "  B = calbetai(A,H,Y)\n",
        "  RowsFS = RowForSupplement(len(Y)-1)\n",
        "  Rows = Row(A)\n",
        "  Left = Concat(Rows,RowsFS,len(Y)-1)\n",
        "  beta = Beta(B,Y,H)\n",
        "  M = np.linalg.solve(Left,beta)\n",
        "  print(M)\n",
        "  return M\n",
        "\n",
        "\n",
        "\n",
        "\n",
        "\n"
      ],
      "metadata": {
        "colab": {
          "base_uri": "https://localhost:8080/"
        },
        "id": "3j5nWJCcatwY",
        "outputId": "02bc32f2-fbe5-4644-cd7f-49dc3e004e87"
      },
      "execution_count": null,
      "outputs": [
        {
          "output_type": "stream",
          "name": "stdout",
          "text": [
            "[ 2.125  1.75  -1.25  -2.375]\n"
          ]
        },
        {
          "output_type": "execute_result",
          "data": {
            "text/plain": [
              "array([ 2.125,  1.75 , -1.25 , -2.375])"
            ]
          },
          "metadata": {},
          "execution_count": 14
        }
      ]
    },
    {
      "cell_type": "code",
      "source": [
        "# 预测代码\n",
        "def predict(targetX,X,Y):\n",
        "  M = solve(X,Y)\n",
        "  n = len(Y)\n",
        "  # 确定targetX所在的区间\n",
        "  st = 0\n",
        "  for i in range(n-1):\n",
        "    if targetX >= X[i] and targetX <= X[i+1]:\n",
        "      st = i\n",
        "      break\n",
        "  tmp1 = (1+2*(targetX-X[st])/(X[st+1]-X[st]))*pow(((targetX-X[st+1])/(X[st]-X[st+1])),2)\n",
        "  tmp2 = (1+2*(targetX-X[st+1])/(X[st]-X[st+1]))*pow(((targetX-X[st])/(X[st+1]-X[st])),2)\n",
        "\n",
        "  tmp3 = (targetX-X[st])*pow(((targetX-X[st+1])/(X[st]-X[st+1])),2)\n",
        "  tmp4 = (targetX-X[st+1])*pow(((targetX-X[st])/(X[st+1]-X[st])),2)\n",
        "\n",
        "  return tmp1*Y[st]+tmp2*Y[st+1]+tmp3*M[st]+tmp4*M[st+1]\n"
      ],
      "metadata": {
        "id": "HwTX9kTInQ6G"
      },
      "execution_count": null,
      "outputs": []
    },
    {
      "cell_type": "code",
      "source": [
        "X = [1,2,4,5]\n",
        "Y = [1,3,4,2]\n",
        "solve(X,Y)\n",
        "\n",
        "# 验证正确\n",
        "predict(3,X,Y)"
      ],
      "metadata": {
        "colab": {
          "base_uri": "https://localhost:8080/"
        },
        "id": "vWBkBhPYpW3v",
        "outputId": "785f674a-7665-4548-96db-f8d219d21d0a"
      },
      "execution_count": null,
      "outputs": [
        {
          "output_type": "stream",
          "name": "stdout",
          "text": [
            "[ 2.125  1.75  -1.25  -2.375]\n",
            "[ 2.125  1.75  -1.25  -2.375]\n"
          ]
        },
        {
          "output_type": "execute_result",
          "data": {
            "text/plain": [
              "4.25"
            ]
          },
          "metadata": {},
          "execution_count": 15
        }
      ]
    },
    {
      "cell_type": "code",
      "source": [
        "# 再做一组测试\n",
        "X = [75,76,77,78,79,80]\n",
        "Y = [2.768,2.833,2.903,2.979,3.062,3.153]\n",
        "\n",
        "re = predict(78.3,X,Y)\n",
        "print(f\"x=78.3的预测值是{re}\")"
      ],
      "metadata": {
        "colab": {
          "base_uri": "https://localhost:8080/"
        },
        "id": "wYjRY2akmp77",
        "outputId": "d3462215-867c-460c-f987-7b8153269ae0"
      },
      "execution_count": null,
      "outputs": [
        {
          "output_type": "stream",
          "name": "stdout",
          "text": [
            "[0.06399522 0.06700957 0.07296651 0.0791244  0.08753589 0.09273206]\n",
            "x=78.3的预测值是3.003044526315789\n"
          ]
        }
      ]
    },
    {
      "cell_type": "markdown",
      "source": [
        "库内函数"
      ],
      "metadata": {
        "id": "AkPhPCHEsQXs"
      }
    },
    {
      "cell_type": "code",
      "source": [
        "\n",
        "from scipy.interpolate import CubicSpline\n",
        "\n",
        "\n",
        "x = np.array(X)\n",
        "y = np.array(Y)\n",
        "\n",
        "# 使用 CubicSpline 进行三次样条插值\n",
        "cs = CubicSpline(x, y)\n",
        "\n",
        "# 生成插值点\n",
        "targetX = np.array([78.3])\n",
        "targetY = cs(targetX)\n",
        "print(f\"target={targetY}\")\n",
        "\n",
        "\n"
      ],
      "metadata": {
        "colab": {
          "base_uri": "https://localhost:8080/"
        },
        "id": "b7eDpjPlsRwv",
        "outputId": "96ab2b3a-71db-49d1-aa2a-5cc9b7da9cc0"
      },
      "execution_count": null,
      "outputs": [
        {
          "output_type": "stream",
          "name": "stdout",
          "text": [
            "target=[3.0031195]\n"
          ]
        }
      ]
    }
  ]
}