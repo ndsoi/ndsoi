{
  "nbformat": 4,
  "nbformat_minor": 0,
  "metadata": {
    "colab": {
      "provenance": [],
      "authorship_tag": "ABX9TyPihHChOHGEf8krtZHEOacX",
      "include_colab_link": true
    },
    "kernelspec": {
      "name": "python3",
      "display_name": "Python 3"
    },
    "language_info": {
      "name": "python"
    }
  },
  "cells": [
    {
      "cell_type": "markdown",
      "metadata": {
        "id": "view-in-github",
        "colab_type": "text"
      },
      "source": [
        "<a href=\"https://colab.research.google.com/github/ndsoi/ndsoi/blob/main/ch7.ipynb\" target=\"_parent\"><img src=\"https://colab.research.google.com/assets/colab-badge.svg\" alt=\"Open In Colab\"/></a>"
      ]
    },
    {
      "cell_type": "markdown",
      "source": [
        "本节目的熟悉Keras API"
      ],
      "metadata": {
        "id": "RS7UtjDizMIV"
      }
    },
    {
      "cell_type": "markdown",
      "source": [
        "#7.2.1 打印模型架构"
      ],
      "metadata": {
        "id": "C5_9ieWq2LhO"
      }
    },
    {
      "cell_type": "markdown",
      "source": [
        "构建基本的序列模型，打印出模型的架构"
      ],
      "metadata": {
        "id": "bXKW77IOzStj"
      }
    },
    {
      "cell_type": "code",
      "execution_count": 36,
      "metadata": {
        "id": "mzHZeE5BzKS1"
      },
      "outputs": [],
      "source": [
        "from tensorflow import keras\n",
        "from keras import layers\n"
      ]
    },
    {
      "cell_type": "code",
      "source": [
        "model = keras.Sequential(name=\"my_example_model\")\n",
        "model.add(layers.Dense(64,activation=\"relu\",name=\"my_first_layer\"))\n",
        "model.add(layers.Dense(10,activation=\"softmax\",name=\"my_last_layer\"))\n",
        "\n",
        "model.build((None,3))   # None 表示该位置可以是任意非负整数，通常这里是(batch_size,3)\n",
        "model.summary()"
      ],
      "metadata": {
        "colab": {
          "base_uri": "https://localhost:8080/"
        },
        "id": "gyooohuazoOX",
        "outputId": "ad95fb48-e256-412e-bc09-0842a95876a2"
      },
      "execution_count": 37,
      "outputs": [
        {
          "output_type": "stream",
          "name": "stdout",
          "text": [
            "Model: \"my_example_model\"\n",
            "_________________________________________________________________\n",
            " Layer (type)                Output Shape              Param #   \n",
            "=================================================================\n",
            " my_first_layer (Dense)      (None, 64)                256       \n",
            "                                                                 \n",
            " my_last_layer (Dense)       (None, 10)                650       \n",
            "                                                                 \n",
            "=================================================================\n",
            "Total params: 906 (3.54 KB)\n",
            "Trainable params: 906 (3.54 KB)\n",
            "Non-trainable params: 0 (0.00 Byte)\n",
            "_________________________________________________________________\n"
          ]
        }
      ]
    },
    {
      "cell_type": "markdown",
      "source": [
        "提前声明模型的输入形状，可以实现跟踪模型输出形状的变化（每add一层，就summary一次）"
      ],
      "metadata": {
        "id": "TIo21_BF0soK"
      }
    },
    {
      "cell_type": "code",
      "source": [
        "model = keras.Sequential()\n",
        "model.add(keras.Input(shape=(3,)))  # 也是用add，但增加的不是layers.Dense 而是 keras.Input(shape=()))\n",
        "\n",
        "#增加模型层\n",
        "model.add(layers.Dense(64,activation=\"relu\"))\n",
        "\n",
        "model.summary()\n",
        "\n",
        "#再增加模型层\n",
        "model.add(layers.Dense(10,activation=\"softmax\"))\n",
        "model.summary()"
      ],
      "metadata": {
        "colab": {
          "base_uri": "https://localhost:8080/"
        },
        "id": "0-oN9biR05V-",
        "outputId": "2b3fe789-8832-4c31-e6f3-3d1d744bee66"
      },
      "execution_count": 38,
      "outputs": [
        {
          "output_type": "stream",
          "name": "stdout",
          "text": [
            "Model: \"sequential_1\"\n",
            "_________________________________________________________________\n",
            " Layer (type)                Output Shape              Param #   \n",
            "=================================================================\n",
            " dense_7 (Dense)             (None, 64)                256       \n",
            "                                                                 \n",
            "=================================================================\n",
            "Total params: 256 (1.00 KB)\n",
            "Trainable params: 256 (1.00 KB)\n",
            "Non-trainable params: 0 (0.00 Byte)\n",
            "_________________________________________________________________\n",
            "Model: \"sequential_1\"\n",
            "_________________________________________________________________\n",
            " Layer (type)                Output Shape              Param #   \n",
            "=================================================================\n",
            " dense_7 (Dense)             (None, 64)                256       \n",
            "                                                                 \n",
            " dense_8 (Dense)             (None, 10)                650       \n",
            "                                                                 \n",
            "=================================================================\n",
            "Total params: 906 (3.54 KB)\n",
            "Trainable params: 906 (3.54 KB)\n",
            "Non-trainable params: 0 (0.00 Byte)\n",
            "_________________________________________________________________\n"
          ]
        }
      ]
    },
    {
      "cell_type": "markdown",
      "source": [
        "上述常用于“构建输入输出变换复杂的层”"
      ],
      "metadata": {
        "id": "fDWZzTFl1ud0"
      }
    },
    {
      "cell_type": "markdown",
      "source": [
        "\n",
        "# 7.7.2\n",
        "函数式API\n"
      ],
      "metadata": {
        "id": "gyUDEipS16JK"
      }
    },
    {
      "cell_type": "markdown",
      "source": [
        "多输入多输出模型：\n",
        "假设你要构建一个系统，按优先级对客户支持工单进行排序，并将工单转给相应的部门。<br>\n",
        "这个模型有3个输入：<br>工单标题（文本输入）<br>工单的文本正文（文本输入）<br>用户添加的标签（分类输入，假定为one-hot编码）<br>我们可以将文本输入编码为由1和0组成的数组，数组大小为vocabulary_size\n",
        "\n",
        "\n",
        "模型还有2个输出：<br>\n",
        "工单的优先级分数，它是介于0和1之间的标量（sigmoid输出）<br>\n",
        "应处理工单的部门（对所有部门做softmax）"
      ],
      "metadata": {
        "id": "SREvXkxJOMIV"
      }
    },
    {
      "cell_type": "code",
      "source": [
        "vocabulary_size = 10000\n",
        "num_tags = 100\n",
        "num_department = 4\n",
        "\n",
        "titles = keras.Input(shape=(vocabulary_size,),name=\"title\")\n",
        "contents = keras.Input(shape=(vocabulary_size),name=\"content\")\n",
        "tags = keras.Input(shape=(num_tags,),name=\"tags\")\n",
        "\n",
        "# 合并输入\n",
        "features = layers.Concatenate()([titles,contents,tags])\n",
        "\n",
        "features = layers.Dense(64,activation=\"relu\")(features)\n",
        "\n",
        "priority = layers.Dense(1,activation=\"sigmoid\",name=\"priority\")(features)\n",
        "\n",
        "department = layers.Dense(num_department,activation=\"softmax\",name=\"department\")(features)\n",
        "\n",
        "\n",
        "# 没懂这里的inputs可不可以用 features?\n",
        "#\n",
        "model = keras.Model(inputs=[titles,contents,tags],outputs=[priority,department])"
      ],
      "metadata": {
        "id": "-X0Q_t3z13ka"
      },
      "execution_count": 39,
      "outputs": []
    },
    {
      "cell_type": "markdown",
      "source": [
        "初步理解<br>\n",
        "inputs接受的是 keras.Input<br>\n",
        "而outputs 可以接受layers.Dense() 或者cnn rnn，总之是一个层<br>\n",
        "之前的features只是用来定义priority和department"
      ],
      "metadata": {
        "id": "KPVN5AaISPg7"
      }
    },
    {
      "cell_type": "markdown",
      "source": [
        "绘制一下模型的拓扑结构"
      ],
      "metadata": {
        "id": "YLen5xUYS4SN"
      }
    },
    {
      "cell_type": "code",
      "source": [
        "keras.utils.plot_model(model,\"first_model.png\")"
      ],
      "metadata": {
        "colab": {
          "base_uri": "https://localhost:8080/",
          "height": 369
        },
        "id": "BKmayEdWbAl4",
        "outputId": "458d159b-d4a9-4775-ca88-e708c8b214bc"
      },
      "execution_count": 40,
      "outputs": [
        {
          "output_type": "execute_result",
          "data": {
            "image/png": "[encoded data removed]",
            "text/plain": [
              "<IPython.core.display.Image object>"
            ]
          },
          "metadata": {},
          "execution_count": 40
        }
      ]
    },
    {
      "cell_type": "markdown",
      "source": [
        "带每层维度的拓扑结构"
      ],
      "metadata": {
        "id": "RiYe6qWcbNnl"
      }
    },
    {
      "cell_type": "code",
      "source": [
        "keras.utils.plot_model(model,\"model_with_shape.png\",show_shapes = True)"
      ],
      "metadata": {
        "colab": {
          "base_uri": "https://localhost:8080/",
          "height": 413
        },
        "id": "R4jX0sFPbN-c",
        "outputId": "1e4b9567-4ee8-475c-862f-b434ea886250"
      },
      "execution_count": 41,
      "outputs": [
        {
          "output_type": "execute_result",
          "data": {
            "image/png": "[encoded data removed]",
            "text/plain": [
              "<IPython.core.display.Image object>"
            ]
          },
          "metadata": {},
          "execution_count": 41
        }
      ]
    },
    {
      "cell_type": "markdown",
      "source": [
        "基于函数式API的模型训练<br>\n",
        "这种模型的训练方法与序贯模型相同，都是对输入数据和输出数据组成的列表调用fit()"
      ],
      "metadata": {
        "id": "9a9qVXpWdi84"
      }
    },
    {
      "cell_type": "code",
      "source": [
        "import numpy as np\n",
        "\n",
        "num_samples = 1280\n",
        "\n",
        "title_data = np.random.randint(0,2,size=(num_samples,vocabulary_size))\n",
        "content_data = np.random.randint(0,2,size=(num_samples,vocabulary_size))\n",
        "tag_data = np.random.randint(0,2,size=(num_samples,num_tags))\n",
        "\n",
        "# 标签的生成\n",
        "priority_data = np.random.random(size=(num_samples,1))\n",
        "department_data = np.random.randint(0,2,size=(num_samples,num_department))\n",
        "\n",
        "\n",
        "# 查看数据\n",
        "print(title_data)\n",
        "print(content_data)\n",
        "print(tag_data)\n",
        "print(priority_data)\n",
        "print(department_data)"
      ],
      "metadata": {
        "colab": {
          "base_uri": "https://localhost:8080/"
        },
        "id": "ep5BAsoDdmDI",
        "outputId": "99f0bd43-7631-44b3-bf57-3f352bfd86d0"
      },
      "execution_count": 52,
      "outputs": [
        {
          "output_type": "stream",
          "name": "stdout",
          "text": [
            "[[0 1 0 ... 0 0 0]\n",
            " [1 0 0 ... 1 0 1]\n",
            " [1 0 0 ... 0 0 1]\n",
            " ...\n",
            " [1 1 0 ... 0 0 1]\n",
            " [0 0 1 ... 0 0 1]\n",
            " [0 1 0 ... 0 0 0]]\n",
            "[[1 0 0 ... 0 0 1]\n",
            " [0 0 1 ... 0 1 0]\n",
            " [1 1 1 ... 0 1 0]\n",
            " ...\n",
            " [0 1 0 ... 0 0 0]\n",
            " [0 1 1 ... 0 0 0]\n",
            " [1 0 0 ... 0 0 1]]\n",
            "[[1 0 0 ... 0 1 0]\n",
            " [1 0 0 ... 0 0 0]\n",
            " [1 0 1 ... 0 1 1]\n",
            " ...\n",
            " [1 0 1 ... 0 1 1]\n",
            " [0 1 0 ... 1 1 1]\n",
            " [0 0 0 ... 1 1 1]]\n",
            "[[0.45797945]\n",
            " [0.09476615]\n",
            " [0.13473283]\n",
            " ...\n",
            " [0.31092879]\n",
            " [0.67471022]\n",
            " [0.48444233]]\n",
            "[[1 1 0 0]\n",
            " [1 1 1 0]\n",
            " [0 0 1 1]\n",
            " ...\n",
            " [0 1 0 1]\n",
            " [0 1 1 1]\n",
            " [0 1 1 1]]\n"
          ]
        }
      ]
    },
    {
      "cell_type": "markdown",
      "source": [
        "编译模型，向模型喂数据\n",
        "\n",
        "\n"
      ],
      "metadata": {
        "id": "q6fDuTDggMJ4"
      }
    },
    {
      "cell_type": "code",
      "source": [
        "model.compile(optimizer=\"rmsprop\",loss=[\"mean_squared_error\",\"categorical_crossentropy\"],metrics=[\"mean_absolute_error\",\"accuracy\"])\n",
        "model.fit([title_data,content_data,tag_data],[priority_data,department_data],epochs=1)\n",
        "model.evaluate([title_data,content_data,tag_data],[priority_data,department_data])\n",
        "\n",
        "priority,department = model.predict([title_data,content_data,tag_data])"
      ],
      "metadata": {
        "id": "V1KHzcONgLsQ",
        "colab": {
          "base_uri": "https://localhost:8080/"
        },
        "outputId": "ddd12666-de3f-498b-f0f6-f2231d02f3a4"
      },
      "execution_count": 43,
      "outputs": [
        {
          "output_type": "stream",
          "name": "stdout",
          "text": [
            "40/40 [==============================] - 2s 23ms/step - loss: 22.2361 - priority_loss: 0.3223 - department_loss: 21.9138 - priority_mean_absolute_error: 0.4929 - priority_accuracy: 0.0000e+00 - department_mean_absolute_error: 0.5029 - department_accuracy: 0.1953\n",
            "40/40 [==============================] - 1s 13ms/step - loss: 9.4738 - priority_loss: 0.3272 - department_loss: 9.1466 - priority_mean_absolute_error: 0.4972 - priority_accuracy: 0.0000e+00 - department_mean_absolute_error: 0.4558 - department_accuracy: 0.5008\n",
            "40/40 [==============================] - 0s 8ms/step\n"
          ]
        }
      ]
    },
    {
      "cell_type": "markdown",
      "source": [
        "上述传参的过程用了完整列表，实际上可以使用字典\n"
      ],
      "metadata": {
        "id": "RhwKJuoQDqZ4"
      }
    },
    {
      "cell_type": "code",
      "source": [
        "model.compile(optimizer=\"rmsprop\",loss={'priority':'mean_squared_error','department':'categorical_crossentropy'},metrics={'priority':'mean_absolute_error','department':'accuracy'})\n",
        "model.fit([title_data,content_data,tag_data],[priority_data,department_data],epochs=1)\n",
        "model.evaluate([title_data,content_data,tag_data],[priority_data,department_data])\n",
        "\n",
        "priority,department = model.predict([title_data,content_data,tag_data])"
      ],
      "metadata": {
        "colab": {
          "base_uri": "https://localhost:8080/"
        },
        "id": "QRyswFVODnCP",
        "outputId": "14f6acc6-15c7-4a16-b008-fce0ba2b6b9e"
      },
      "execution_count": 44,
      "outputs": [
        {
          "output_type": "stream",
          "name": "stdout",
          "text": [
            "40/40 [==============================] - 1s 18ms/step - loss: 28.5666 - priority_loss: 0.3272 - department_loss: 28.2394 - priority_mean_absolute_error: 0.4972 - department_accuracy: 0.2484\n",
            "40/40 [==============================] - 1s 9ms/step - loss: 33.0810 - priority_loss: 0.3272 - department_loss: 32.7538 - priority_mean_absolute_error: 0.4972 - department_accuracy: 0.2586\n",
            "40/40 [==============================] - 0s 7ms/step\n"
          ]
        }
      ]
    },
    {
      "cell_type": "markdown",
      "source": [
        "# 7.2.3 模型子类化"
      ],
      "metadata": {
        "id": "hS-LSyxyFAOF"
      }
    },
    {
      "cell_type": "markdown",
      "source": [
        "继承model，自编写一个model类<br>\n",
        "1、完成init函数<br>\n",
        "实现权重初始化<br>\n",
        "2、完成call函数<br>\n",
        "实现向前传播的功能"
      ],
      "metadata": {
        "id": "MfFxQFYuGkGr"
      }
    },
    {
      "cell_type": "code",
      "source": [
        "class myTricketModel(keras.Model):\n",
        "  def __init__(self,num_department):\n",
        "    super().__init__()\n",
        "    self.concat_layer = layers.Concatenate()\n",
        "    self.feature_layer = layers.Dense(64,activation=\"relu\",name=\"feature\")\n",
        "    self.priority_layer = layers.Dense(1,activation=\"sigmoid\",name=\"priority\")\n",
        "    self.department_layer = layers.Dense(num_department,activation=\"softmax\",name=\"department\")\n",
        "\n",
        "  # 出现错误TypeError: myTricketModel.__call__() got an unexpected keyword argument 'training'所以才增加**kwargs参数\n",
        "  def __call__(self,inputs,**kwargs):\n",
        "    titles = inputs['titles']\n",
        "    contents = inputs['contents']\n",
        "    tags = inputs['tags']\n",
        "    features = self.concat_layer([titles,contents,tags])\n",
        "    features = self.feature_layer(features)\n",
        "    priority = self.priority_layer(features)\n",
        "    department = self.department_layer(features)\n",
        "    return priority,department\n",
        "\n"
      ],
      "metadata": {
        "id": "SkIb_sBsGjCp"
      },
      "execution_count": 56,
      "outputs": []
    },
    {
      "cell_type": "code",
      "source": [
        "model = myTricketModel(num_department=4)\n",
        "# keras.utils.plot_model(model,\"myTricketModel.png\") 模型只有在正在接受到数据以后才会build\n",
        "inputs = {'titles':title_data,'contents':content_data,'tags':tag_data}\n",
        "print(inputs)\n",
        "model(inputs)\n",
        "model.compile(optimizer=\"rmsprop\",loss=[\"mean_squared_error\",\"categorical_crossentropy\"],metrics=[\"mean_absolute_error\",\"accuracy\"])\n",
        "model.fit(inputs,[priority_data,department_data],epochs=1)\n",
        "model.evaluate(inputs,[priority_data,department_data])\n",
        "\n",
        "priority,department = model.predict(inputs)\n",
        "print(priority,department)\n"
      ],
      "metadata": {
        "colab": {
          "base_uri": "https://localhost:8080/"
        },
        "id": "c7NLsXORJFZD",
        "outputId": "49f9faef-773c-462c-a168-ea7c29dc5a3a"
      },
      "execution_count": 58,
      "outputs": [
        {
          "output_type": "stream",
          "name": "stdout",
          "text": [
            "{'titles': array([[0, 1, 0, ..., 0, 0, 0],\n",
            "       [1, 0, 0, ..., 1, 0, 1],\n",
            "       [1, 0, 0, ..., 0, 0, 1],\n",
            "       ...,\n",
            "       [1, 1, 0, ..., 0, 0, 1],\n",
            "       [0, 0, 1, ..., 0, 0, 1],\n",
            "       [0, 1, 0, ..., 0, 0, 0]]), 'contents': array([[1, 0, 0, ..., 0, 0, 1],\n",
            "       [0, 0, 1, ..., 0, 1, 0],\n",
            "       [1, 1, 1, ..., 0, 1, 0],\n",
            "       ...,\n",
            "       [0, 1, 0, ..., 0, 0, 0],\n",
            "       [0, 1, 1, ..., 0, 0, 0],\n",
            "       [1, 0, 0, ..., 0, 0, 1]]), 'tags': array([[1, 0, 0, ..., 0, 1, 0],\n",
            "       [1, 0, 0, ..., 0, 0, 0],\n",
            "       [1, 0, 1, ..., 0, 1, 1],\n",
            "       ...,\n",
            "       [1, 0, 1, ..., 0, 1, 1],\n",
            "       [0, 1, 0, ..., 1, 1, 1],\n",
            "       [0, 0, 0, ..., 1, 1, 1]])}\n",
            "40/40 [==============================] - 2s 21ms/step - loss: 34.7817 - output_1_loss: 0.3329 - output_2_loss: 34.4488 - output_1_mean_absolute_error: 0.4977 - output_1_accuracy: 0.0000e+00 - output_2_mean_absolute_error: 0.5004 - output_2_accuracy: 0.2719\n",
            "40/40 [==============================] - 1s 8ms/step - loss: 16.6599 - output_1_loss: 0.3375 - output_2_loss: 16.3224 - output_1_mean_absolute_error: 0.5020 - output_1_accuracy: 0.0000e+00 - output_2_mean_absolute_error: 0.5028 - output_2_accuracy: 0.1250\n",
            "40/40 [==============================] - 0s 8ms/step\n",
            "[[0.]\n",
            " [0.]\n",
            " [0.]\n",
            " ...\n",
            " [0.]\n",
            " [0.]\n",
            " [0.]] [[2.6020253e-08 9.4737034e-06 9.5711869e-01 4.2871810e-02]\n",
            " [7.0863194e-08 1.1685823e-06 9.8510712e-01 1.4891563e-02]\n",
            " [2.5245408e-08 2.5566221e-06 9.6761489e-01 3.2382473e-02]\n",
            " ...\n",
            " [9.1705125e-08 4.4781959e-06 9.5583290e-01 4.4162504e-02]\n",
            " [8.8771870e-09 2.5319473e-06 9.6700120e-01 3.2996189e-02]\n",
            " [4.2872990e-08 3.2869639e-06 9.6028584e-01 3.9710797e-02]]\n"
          ]
        }
      ]
    },
    {
      "cell_type": "markdown",
      "source": [],
      "metadata": {
        "id": "ndR67MrsI_ni"
      }
    },
    {
      "cell_type": "code",
      "source": [],
      "metadata": {
        "id": "6Gn5eEvbQsIt"
      },
      "execution_count": null,
      "outputs": []
    }
  ]
}