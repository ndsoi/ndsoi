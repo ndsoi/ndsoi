{
  "nbformat": 4,
  "nbformat_minor": 0,
  "metadata": {
    "colab": {
      "provenance": [],
      "authorship_tag": "ABX9TyOu5KKGsL2JL8VN0YVU1UGC",
      "include_colab_link": true
    },
    "kernelspec": {
      "name": "python3",
      "display_name": "Python 3"
    },
    "language_info": {
      "name": "python"
    }
  },
  "cells": [
    {
      "cell_type": "markdown",
      "metadata": {
        "id": "view-in-github",
        "colab_type": "text"
      },
      "source": [
        "<a href=\"https://colab.research.google.com/github/ndsoi/ndsoi/blob/main/%E5%BD%B1%E8%AF%84%E6%83%85%E6%84%9F%E5%88%86%E6%9E%90.ipynb\" target=\"_parent\"><img src=\"https://colab.research.google.com/assets/colab-badge.svg\" alt=\"Open In Colab\"/></a>"
      ]
    },
    {
      "cell_type": "code",
      "source": [],
      "metadata": {
        "id": "a2Ftk1o4eeQz"
      },
      "execution_count": null,
      "outputs": []
    },
    {
      "cell_type": "markdown",
      "source": [
        "导入相应的库"
      ],
      "metadata": {
        "id": "u17VOO0NedJM"
      }
    },
    {
      "cell_type": "code",
      "execution_count": 1,
      "metadata": {
        "id": "rX9k1Je-eX--"
      },
      "outputs": [],
      "source": [
        "from tensorflow.keras.datasets import imdb\n",
        "import numpy as np\n",
        "\n"
      ]
    },
    {
      "cell_type": "markdown",
      "source": [
        "1. 获取数据集以及对数据做预处理<br>\n",
        "   导入了一个封装好的库<br>\n",
        "（1）只保留频率为前10000的词以及词序——（减少数据维度和运算量）<br>\n"
      ],
      "metadata": {
        "id": "G9VoNUwQef_5"
      }
    },
    {
      "cell_type": "code",
      "source": [
        "(train_data,train_labels),(test_data,test_labels) = imdb.load_data(num_words=10000)\n",
        "\n",
        "# 查看返回的train_data (应该是数字序列，每个数字代表一个单词)\n",
        "print(train_data[0])\n",
        "\n",
        "# 查看返回的标签，应该是0/1\n",
        "print(train_labels[0])\n",
        "\n",
        "# 将数字序列还原成文本\n",
        "# 获取原先的映射字典\n",
        "word_index = imdb.get_word_index()\n",
        "\n",
        "\n",
        "# 换键值\n",
        "index_to_word = dict([(value,key) for key,value in word_index.items()])\n",
        "\n",
        "# 翻译出第一句\n",
        "decode_first_sequence = \" \".join([index_to_word.get(i-3,\"?\") for i in train_data[0]])\n",
        "print(decode_first_sequence)\n"
      ],
      "metadata": {
        "colab": {
          "base_uri": "https://localhost:8080/"
        },
        "id": "zfMMh6FHehX_",
        "outputId": "9c450e7a-8e37-4372-d222-add1792827dd"
      },
      "execution_count": 2,
      "outputs": [
        {
          "output_type": "stream",
          "name": "stdout",
          "text": [
            "[1, 14, 22, 16, 43, 530, 973, 1622, 1385, 65, 458, 4468, 66, 3941, 4, 173, 36, 256, 5, 25, 100, 43, 838, 112, 50, 670, 2, 9, 35, 480, 284, 5, 150, 4, 172, 112, 167, 2, 336, 385, 39, 4, 172, 4536, 1111, 17, 546, 38, 13, 447, 4, 192, 50, 16, 6, 147, 2025, 19, 14, 22, 4, 1920, 4613, 469, 4, 22, 71, 87, 12, 16, 43, 530, 38, 76, 15, 13, 1247, 4, 22, 17, 515, 17, 12, 16, 626, 18, 2, 5, 62, 386, 12, 8, 316, 8, 106, 5, 4, 2223, 5244, 16, 480, 66, 3785, 33, 4, 130, 12, 16, 38, 619, 5, 25, 124, 51, 36, 135, 48, 25, 1415, 33, 6, 22, 12, 215, 28, 77, 52, 5, 14, 407, 16, 82, 2, 8, 4, 107, 117, 5952, 15, 256, 4, 2, 7, 3766, 5, 723, 36, 71, 43, 530, 476, 26, 400, 317, 46, 7, 4, 2, 1029, 13, 104, 88, 4, 381, 15, 297, 98, 32, 2071, 56, 26, 141, 6, 194, 7486, 18, 4, 226, 22, 21, 134, 476, 26, 480, 5, 144, 30, 5535, 18, 51, 36, 28, 224, 92, 25, 104, 4, 226, 65, 16, 38, 1334, 88, 12, 16, 283, 5, 16, 4472, 113, 103, 32, 15, 16, 5345, 19, 178, 32]\n",
            "1\n",
            "? this film was just brilliant casting location scenery story direction everyone's really suited the part they played and you could just imagine being there robert ? is an amazing actor and now the same being director ? father came from the same scottish island as myself so i loved the fact there was a real connection with this film the witty remarks throughout the film were great it was just brilliant so much that i bought the film as soon as it was released for ? and would recommend it to everyone to watch and the fly fishing was amazing really cried at the end it was so sad and you know what they say if you cry at a film it must have been good and this definitely was also ? to the two little boy's that played the ? of norman and paul they were just brilliant children are often left out of the ? list i think because the stars that play them all grown up are such a big profile for the whole film but these children are amazing and should be praised for what they have done don't you think the whole story was so lovely because it was true and was someone's life after all that was shared with us all\n"
          ]
        }
      ]
    },
    {
      "cell_type": "markdown",
      "source": [
        "（2）统一输入数据的维度，有两种方式：方法一是找出最长的样本序列，然后将其他样本都填充到最长<br>\n",
        "方法二是multi-hot编码，只有单词在不在，没有词频没有相对位置关系"
      ],
      "metadata": {
        "id": "J8rRdc4Vi_7N"
      }
    },
    {
      "cell_type": "code",
      "source": [
        "# multihot\n",
        "def vectorize_sequences(sequences,dimension=10000):\n",
        "  result = np.zeros((len(sequences),10000))\n",
        "  for i,sequence in enumerate(sequences):\n",
        "    for j in sequence:\n",
        "      result[i,j] = 1\n",
        "  return result\n",
        "\n",
        "\n",
        "print(train_data.shape)\n",
        "train_data = vectorize_sequences(train_data)\n",
        "test_data = vectorize_sequences(test_data)"
      ],
      "metadata": {
        "colab": {
          "base_uri": "https://localhost:8080/"
        },
        "id": "oyQ-PVzlgnr1",
        "outputId": "9aa74f4a-8018-4a82-9167-22f8dd1fdefc"
      },
      "execution_count": 3,
      "outputs": [
        {
          "output_type": "stream",
          "name": "stdout",
          "text": [
            "(25000,)\n"
          ]
        }
      ]
    },
    {
      "cell_type": "markdown",
      "source": [
        "标签向量化"
      ],
      "metadata": {
        "id": "AjNE974SmMn9"
      }
    },
    {
      "cell_type": "code",
      "source": [
        "train_labels = np.asarray(train_labels).astype(\"float32\")\n",
        "test_labels = np.asarray(test_labels).astype(\"float32\")"
      ],
      "metadata": {
        "id": "4JUru2y-mMNt"
      },
      "execution_count": 4,
      "outputs": []
    },
    {
      "cell_type": "markdown",
      "source": [
        "划分出验证集"
      ],
      "metadata": {
        "id": "y_L-3ZzalG4B"
      }
    },
    {
      "cell_type": "code",
      "source": [
        "vaild_data = train_data[:10000]\n",
        "vaild_labels = train_labels[:10000]\n",
        "train_data = train_data[10000:]\n",
        "train_labels = train_labels[10000:]\n",
        "\n",
        "\n",
        "print(train_data.shape)"
      ],
      "metadata": {
        "colab": {
          "base_uri": "https://localhost:8080/"
        },
        "id": "yxL2mnADlJc-",
        "outputId": "6cbc8743-d810-4295-bc8d-87d55cbe8f3c"
      },
      "execution_count": 5,
      "outputs": [
        {
          "output_type": "stream",
          "name": "stdout",
          "text": [
            "(15000, 10000)\n"
          ]
        }
      ]
    },
    {
      "cell_type": "markdown",
      "source": [
        "2.定义模型\n",
        "两个Dense中间层，units为16，激活函数为relu\n",
        "最后一层输出概率"
      ],
      "metadata": {
        "id": "FjibnlBBeiF0"
      }
    },
    {
      "cell_type": "code",
      "source": [
        "from tensorflow import keras\n",
        "from tensorflow.keras import layers\n",
        "model = keras.Sequential([\n",
        "    layers.Dense(units=16,activation=\"relu\"),\n",
        "    layers.Dense(units=16,activation=\"relu\"),\n",
        "    layers.Dense(units=1,activation=\"sigmoid\")\n",
        "])"
      ],
      "metadata": {
        "id": "Mbi168uHemDL"
      },
      "execution_count": 6,
      "outputs": []
    },
    {
      "cell_type": "markdown",
      "source": [
        "3.编译与训练<br>\n",
        "优化器采用rmsprop<br>\n",
        "损失更推荐 交叉熵<br>\n",
        "监测指标设为精度<br>\n",
        "训练：补1的内容——划分验证集 <br>\n",
        "fit指定训练集和验证集以及batch_size <br>\n",
        "这里再次说明一下：<br>\n",
        "batch_size是指训练集的一小部分，用来更新参数用的<br>\n",
        "验证集是每轮epoch结束后，计算当前模型的性能，不会参与参数更新"
      ],
      "metadata": {
        "id": "88b-fOYJemQ3"
      }
    },
    {
      "cell_type": "code",
      "source": [
        "model.compile(optimizer=\"rmsprop\",loss=\"binary_crossentropy\",metrics=[\"accuracy\"])\n",
        "\n",
        "history = model.fit(train_data,train_labels,epochs=10,batch_size=512,validation_data=(vaild_data,vaild_labels))"
      ],
      "metadata": {
        "colab": {
          "base_uri": "https://localhost:8080/"
        },
        "id": "Hv7jWOC3epNt",
        "outputId": "f71710aa-efd0-4c65-df9a-441525d8eca1"
      },
      "execution_count": 7,
      "outputs": [
        {
          "output_type": "stream",
          "name": "stdout",
          "text": [
            "Epoch 1/10\n",
            "30/30 [==============================] - 3s 74ms/step - loss: 0.5201 - accuracy: 0.7798 - val_loss: 0.3950 - val_accuracy: 0.8688\n",
            "Epoch 2/10\n",
            "30/30 [==============================] - 1s 35ms/step - loss: 0.3230 - accuracy: 0.8947 - val_loss: 0.3160 - val_accuracy: 0.8818\n",
            "Epoch 3/10\n",
            "30/30 [==============================] - 1s 34ms/step - loss: 0.2440 - accuracy: 0.9184 - val_loss: 0.2843 - val_accuracy: 0.8890\n",
            "Epoch 4/10\n",
            "30/30 [==============================] - 1s 38ms/step - loss: 0.1963 - accuracy: 0.9347 - val_loss: 0.2753 - val_accuracy: 0.8894\n",
            "Epoch 5/10\n",
            "30/30 [==============================] - 2s 55ms/step - loss: 0.1631 - accuracy: 0.9475 - val_loss: 0.3067 - val_accuracy: 0.8753\n",
            "Epoch 6/10\n",
            "30/30 [==============================] - 1s 41ms/step - loss: 0.1385 - accuracy: 0.9547 - val_loss: 0.3059 - val_accuracy: 0.8811\n",
            "Epoch 7/10\n",
            "30/30 [==============================] - 1s 35ms/step - loss: 0.1193 - accuracy: 0.9629 - val_loss: 0.2962 - val_accuracy: 0.8853\n",
            "Epoch 8/10\n",
            "30/30 [==============================] - 1s 35ms/step - loss: 0.1004 - accuracy: 0.9697 - val_loss: 0.3680 - val_accuracy: 0.8715\n",
            "Epoch 9/10\n",
            "30/30 [==============================] - 1s 34ms/step - loss: 0.0888 - accuracy: 0.9751 - val_loss: 0.3329 - val_accuracy: 0.8773\n",
            "Epoch 10/10\n",
            "30/30 [==============================] - 1s 31ms/step - loss: 0.0758 - accuracy: 0.9796 - val_loss: 0.3879 - val_accuracy: 0.8749\n"
          ]
        }
      ]
    },
    {
      "cell_type": "markdown",
      "source": [
        "4.评估模型<br>\n",
        "用matplotlib.pyplot绘图<br>\n",
        "绘制epoches-loss和epoches-valloss的图像<br>\n",
        "如果出现过拟合，可以减少epoch，从头训练一个模型<br>"
      ],
      "metadata": {
        "id": "t7RQhsOse4WA"
      }
    },
    {
      "cell_type": "code",
      "source": [
        "import matplotlib.pyplot as plt\n",
        "history = history.history\n",
        "y_train_loss = history['loss']\n",
        "x_epoches = range(1,len(y_train_loss)+1)\n",
        "\n",
        "plt.plot(x_epoches,y_train_loss,\"bo\",label=\"Training_loss\")\n",
        "\n",
        "y_val_loss = history['val_loss']\n",
        "plt.plot(x_epoches,y_val_loss,\"b\",label=\"Val_loss\")\n",
        "\n",
        "plt.xlabel(\"Epochs\")\n",
        "plt.ylabel(\"Loss\")\n",
        "\n",
        "plt.legend()\n",
        "plt.show()\n",
        "\n",
        "\n"
      ],
      "metadata": {
        "colab": {
          "base_uri": "https://localhost:8080/",
          "height": 449
        },
        "id": "8Q8pZJ0lnIis",
        "outputId": "3224ebfd-3537-4867-8a99-ee087ae42e2d"
      },
      "execution_count": 8,
      "outputs": [
        {
          "output_type": "display_data",
          "data": {
            "text/plain": [
              "<Figure size 640x480 with 1 Axes>"
            ],
            "image/png": "[encoded data removed]"
          },
          "metadata": {}
        }
      ]
    },
    {
      "cell_type": "markdown",
      "source": [
        "可以从图像看出来，epoch超过5的时候以及过拟合了，可以提前停止训练"
      ],
      "metadata": {
        "id": "cPSuTtOdqmA0"
      }
    },
    {
      "cell_type": "code",
      "source": [
        "model = keras.Sequential([\n",
        "    layers.Dense(units=16,activation=\"relu\"),\n",
        "    layers.Dense(units=16,activation=\"relu\"),\n",
        "    layers.Dense(units=1,activation=\"sigmoid\")\n",
        "])\n",
        "model.compile(optimizer=\"rmsprop\",loss=\"binary_crossentropy\",metrics=[\"accuracy\"])\n",
        "\n",
        "history = model.fit(train_data,train_labels,epochs=4,batch_size=512,validation_data=(vaild_data,vaild_labels))  # 减少了训练轮次\n",
        "\n",
        "# 重新绘制图像\n",
        "history = history.history\n",
        "y_train_loss = history['loss']\n",
        "x_epoches = range(1,len(y_train_loss)+1)\n",
        "\n",
        "plt.plot(x_epoches,y_train_loss,\"bo\",label=\"Training_loss\")\n",
        "\n",
        "y_val_loss = history['val_loss']\n",
        "plt.plot(x_epoches,y_val_loss,\"b\",label=\"Val_loss\")\n",
        "\n",
        "plt.xlabel(\"Epochs\")\n",
        "plt.ylabel(\"Loss\")\n",
        "\n",
        "plt.legend()\n",
        "plt.show()"
      ],
      "metadata": {
        "colab": {
          "base_uri": "https://localhost:8080/",
          "height": 589
        },
        "id": "slOJatDAqlah",
        "outputId": "5a99c02b-7661-4635-e556-328abf64fbaa"
      },
      "execution_count": 9,
      "outputs": [
        {
          "output_type": "stream",
          "name": "stdout",
          "text": [
            "Epoch 1/4\n",
            "30/30 [==============================] - 3s 69ms/step - loss: 0.5381 - accuracy: 0.7617 - val_loss: 0.4098 - val_accuracy: 0.8606\n",
            "Epoch 2/4\n",
            "30/30 [==============================] - 1s 35ms/step - loss: 0.3353 - accuracy: 0.8904 - val_loss: 0.3219 - val_accuracy: 0.8794\n",
            "Epoch 3/4\n",
            "30/30 [==============================] - 1s 48ms/step - loss: 0.2495 - accuracy: 0.9161 - val_loss: 0.3152 - val_accuracy: 0.8718\n",
            "Epoch 4/4\n",
            "30/30 [==============================] - 1s 47ms/step - loss: 0.2024 - accuracy: 0.9306 - val_loss: 0.2753 - val_accuracy: 0.8877\n"
          ]
        },
        {
          "output_type": "display_data",
          "data": {
            "text/plain": [
              "<Figure size 640x480 with 1 Axes>"
            ],
            "image/png": "[encoded data removed]"
          },
          "metadata": {}
        }
      ]
    },
    {
      "cell_type": "code",
      "source": [
        "# 随机找一个test还原\n",
        "\n",
        "\n",
        "predictions = model.predict(test_data)\n",
        "\n",
        "# 应用训练好的模型 predict函数\n",
        "print(f\"真实值:{test_labels}\")\n",
        "\n",
        "print(f\"预测值:{predictions}\")"
      ],
      "metadata": {
        "colab": {
          "base_uri": "https://localhost:8080/"
        },
        "id": "Fwe1XqbDrRUe",
        "outputId": "3168fcb4-a064-47bb-c27f-308d6d9e2ac2"
      },
      "execution_count": 10,
      "outputs": [
        {
          "output_type": "stream",
          "name": "stdout",
          "text": [
            "782/782 [==============================] - 2s 2ms/step\n",
            "真实值:[0. 1. 1. ... 0. 0. 0.]\n",
            "预测值:[[0.25412077]\n",
            " [0.99605656]\n",
            " [0.82601666]\n",
            " ...\n",
            " [0.08723006]\n",
            " [0.11912512]\n",
            " [0.455034  ]]\n"
          ]
        }
      ]
    },
    {
      "cell_type": "markdown",
      "source": [
        "大失误：刚刚model最后一层写成了softmax导致一水的0.9999994和1.0"
      ],
      "metadata": {
        "id": "YHbTa2k5vo6z"
      }
    }
  ]
}